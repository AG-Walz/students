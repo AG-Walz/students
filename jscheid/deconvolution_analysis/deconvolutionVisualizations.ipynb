{
 "cells": [
  {
   "cell_type": "code",
   "execution_count": 1,
   "metadata": {},
   "outputs": [],
   "source": [
    "from matplotlib import pyplot as plt\n",
    "import matplotlib.colors as mcolors\n",
    "import pandas as pd\n",
    "import re\n",
    "import seaborn as sns\n",
    "import numpy as np"
   ]
  },
  {
   "cell_type": "code",
   "execution_count": 31,
   "metadata": {},
   "outputs": [
    {
     "data": {
      "text/html": [
       "<div>\n",
       "<style scoped>\n",
       "    .dataframe tbody tr th:only-of-type {\n",
       "        vertical-align: middle;\n",
       "    }\n",
       "\n",
       "    .dataframe tbody tr th {\n",
       "        vertical-align: top;\n",
       "    }\n",
       "\n",
       "    .dataframe thead th {\n",
       "        text-align: right;\n",
       "    }\n",
       "</style>\n",
       "<table border=\"1\" class=\"dataframe\">\n",
       "  <thead>\n",
       "    <tr style=\"text-align: right;\">\n",
       "      <th></th>\n",
       "      <th>sample</th>\n",
       "      <th>MESlike</th>\n",
       "      <th>OPClike</th>\n",
       "      <th>AClike</th>\n",
       "      <th>NPClike</th>\n",
       "      <th>tumorType</th>\n",
       "    </tr>\n",
       "  </thead>\n",
       "  <tbody>\n",
       "    <tr>\n",
       "      <th>0</th>\n",
       "      <td>GBM23</td>\n",
       "      <td>0.453784</td>\n",
       "      <td>0.267809</td>\n",
       "      <td>0.140957</td>\n",
       "      <td>0.137450</td>\n",
       "      <td>Prim.</td>\n",
       "    </tr>\n",
       "    <tr>\n",
       "      <th>1</th>\n",
       "      <td>GBM18</td>\n",
       "      <td>0.656607</td>\n",
       "      <td>0.119767</td>\n",
       "      <td>0.205593</td>\n",
       "      <td>0.018034</td>\n",
       "      <td>Prim.</td>\n",
       "    </tr>\n",
       "    <tr>\n",
       "      <th>2</th>\n",
       "      <td>GBM22</td>\n",
       "      <td>0.736406</td>\n",
       "      <td>0.110060</td>\n",
       "      <td>0.139434</td>\n",
       "      <td>0.014101</td>\n",
       "      <td>Prim.</td>\n",
       "    </tr>\n",
       "    <tr>\n",
       "      <th>3</th>\n",
       "      <td>GBM17</td>\n",
       "      <td>0.247800</td>\n",
       "      <td>0.164172</td>\n",
       "      <td>0.414031</td>\n",
       "      <td>0.173997</td>\n",
       "      <td>Prim.</td>\n",
       "    </tr>\n",
       "    <tr>\n",
       "      <th>4</th>\n",
       "      <td>GBM2</td>\n",
       "      <td>0.765984</td>\n",
       "      <td>0.053747</td>\n",
       "      <td>0.124312</td>\n",
       "      <td>0.055957</td>\n",
       "      <td>Prim.</td>\n",
       "    </tr>\n",
       "  </tbody>\n",
       "</table>\n",
       "</div>"
      ],
      "text/plain": [
       "  sample   MESlike   OPClike    AClike   NPClike tumorType\n",
       "0  GBM23  0.453784  0.267809  0.140957  0.137450     Prim.\n",
       "1  GBM18  0.656607  0.119767  0.205593  0.018034     Prim.\n",
       "2  GBM22  0.736406  0.110060  0.139434  0.014101     Prim.\n",
       "3  GBM17  0.247800  0.164172  0.414031  0.173997     Prim.\n",
       "4   GBM2  0.765984  0.053747  0.124312  0.055957     Prim."
      ]
     },
     "execution_count": 31,
     "metadata": {},
     "output_type": "execute_result"
    }
   ],
   "source": [
    "# Read in Scaden data\n",
    "scaden = pd.read_csv('scaden/scaden_predictions.txt', sep='\\t')\n",
    "# Create clean df w/ new malignant type column\n",
    "scaden = scaden.rename(columns={'Unnamed: 0': 'sample'})\n",
    "scaden['sample'] = [re.sub(r'^.*?_G', 'G', sample) for sample in scaden['sample']]\n",
    "scaden['tumorType'] = ['Prim.' if 'Prim.' in t else 'Rec.' for t in scaden['sample']]\n",
    "scaden['sample'] = [sample.split('_')[0] for sample in scaden['sample']]\n",
    "\n",
    "scaden.head()"
   ]
  },
  {
   "cell_type": "code",
   "execution_count": 2,
   "metadata": {},
   "outputs": [
    {
     "data": {
      "text/html": [
       "<div>\n",
       "<style scoped>\n",
       "    .dataframe tbody tr th:only-of-type {\n",
       "        vertical-align: middle;\n",
       "    }\n",
       "\n",
       "    .dataframe tbody tr th {\n",
       "        vertical-align: top;\n",
       "    }\n",
       "\n",
       "    .dataframe thead th {\n",
       "        text-align: right;\n",
       "    }\n",
       "</style>\n",
       "<table border=\"1\" class=\"dataframe\">\n",
       "  <thead>\n",
       "    <tr style=\"text-align: right;\">\n",
       "      <th></th>\n",
       "      <th>sample</th>\n",
       "      <th>AClike</th>\n",
       "      <th>MESlike</th>\n",
       "      <th>NPClike</th>\n",
       "      <th>OPClike</th>\n",
       "      <th>P-value</th>\n",
       "      <th>Correlation</th>\n",
       "      <th>RMSE</th>\n",
       "      <th>tumorType</th>\n",
       "    </tr>\n",
       "  </thead>\n",
       "  <tbody>\n",
       "    <tr>\n",
       "      <th>0</th>\n",
       "      <td>GBM23</td>\n",
       "      <td>0.020422</td>\n",
       "      <td>0.768873</td>\n",
       "      <td>0.039120</td>\n",
       "      <td>0.171585</td>\n",
       "      <td>0</td>\n",
       "      <td>0.886447</td>\n",
       "      <td>0.707751</td>\n",
       "      <td>Prim.</td>\n",
       "    </tr>\n",
       "    <tr>\n",
       "      <th>1</th>\n",
       "      <td>GBM18</td>\n",
       "      <td>0.027894</td>\n",
       "      <td>0.843634</td>\n",
       "      <td>0.000310</td>\n",
       "      <td>0.128162</td>\n",
       "      <td>0</td>\n",
       "      <td>0.892386</td>\n",
       "      <td>0.806902</td>\n",
       "      <td>Prim.</td>\n",
       "    </tr>\n",
       "    <tr>\n",
       "      <th>2</th>\n",
       "      <td>GBM22</td>\n",
       "      <td>0.000000</td>\n",
       "      <td>0.882449</td>\n",
       "      <td>0.000000</td>\n",
       "      <td>0.117551</td>\n",
       "      <td>0</td>\n",
       "      <td>0.930879</td>\n",
       "      <td>0.786378</td>\n",
       "      <td>Prim.</td>\n",
       "    </tr>\n",
       "    <tr>\n",
       "      <th>3</th>\n",
       "      <td>GBM17</td>\n",
       "      <td>0.460514</td>\n",
       "      <td>0.343179</td>\n",
       "      <td>0.042155</td>\n",
       "      <td>0.154152</td>\n",
       "      <td>0</td>\n",
       "      <td>0.451955</td>\n",
       "      <td>0.944320</td>\n",
       "      <td>Prim.</td>\n",
       "    </tr>\n",
       "    <tr>\n",
       "      <th>4</th>\n",
       "      <td>GBM2</td>\n",
       "      <td>0.000000</td>\n",
       "      <td>0.873567</td>\n",
       "      <td>0.029961</td>\n",
       "      <td>0.096472</td>\n",
       "      <td>0</td>\n",
       "      <td>0.929950</td>\n",
       "      <td>0.773679</td>\n",
       "      <td>Prim.</td>\n",
       "    </tr>\n",
       "  </tbody>\n",
       "</table>\n",
       "</div>"
      ],
      "text/plain": [
       "  sample    AClike   MESlike   NPClike   OPClike  P-value  Correlation  \\\n",
       "0  GBM23  0.020422  0.768873  0.039120  0.171585        0     0.886447   \n",
       "1  GBM18  0.027894  0.843634  0.000310  0.128162        0     0.892386   \n",
       "2  GBM22  0.000000  0.882449  0.000000  0.117551        0     0.930879   \n",
       "3  GBM17  0.460514  0.343179  0.042155  0.154152        0     0.451955   \n",
       "4   GBM2  0.000000  0.873567  0.029961  0.096472        0     0.929950   \n",
       "\n",
       "       RMSE tumorType  \n",
       "0  0.707751     Prim.  \n",
       "1  0.806902     Prim.  \n",
       "2  0.786378     Prim.  \n",
       "3  0.944320     Prim.  \n",
       "4  0.773679     Prim.  "
      ]
     },
     "execution_count": 2,
     "metadata": {},
     "output_type": "execute_result"
    }
   ],
   "source": [
    "# Read in Cibersortx data\n",
    "cibersort = pd.read_csv(\"cibersort/cibersortx_output.txt\", sep='\\t')\n",
    "# Create clean df w/ new malignant type column\n",
    "cibersort = cibersort.rename(columns={'Mixture': 'sample'})\n",
    "cibersort['sample'] = [re.sub(r'^.*?_G', 'G', sample) for sample in cibersort['sample']]\n",
    "cibersort['tumorType'] = ['Prim.' if 'Prim.' in t else 'Rec.' for t in cibersort['sample']]\n",
    "cibersort['sample'] = [sample.split('_')[0] for sample in cibersort['sample']]\n",
    "cibersort.head()"
   ]
  },
  {
   "cell_type": "code",
   "execution_count": 68,
   "metadata": {
    "scrolled": true
   },
   "outputs": [
    {
     "data": {
      "text/html": [
       "<div>\n",
       "<style scoped>\n",
       "    .dataframe tbody tr th:only-of-type {\n",
       "        vertical-align: middle;\n",
       "    }\n",
       "\n",
       "    .dataframe tbody tr th {\n",
       "        vertical-align: top;\n",
       "    }\n",
       "\n",
       "    .dataframe thead th {\n",
       "        text-align: right;\n",
       "    }\n",
       "</style>\n",
       "<table border=\"1\" class=\"dataframe\">\n",
       "  <thead>\n",
       "    <tr style=\"text-align: right;\">\n",
       "      <th></th>\n",
       "      <th>cellType</th>\n",
       "      <th>cellComposition</th>\n",
       "      <th>Tumor type</th>\n",
       "    </tr>\n",
       "  </thead>\n",
       "  <tbody>\n",
       "    <tr>\n",
       "      <th>0</th>\n",
       "      <td>MESlike</td>\n",
       "      <td>0.453784</td>\n",
       "      <td>Prim.</td>\n",
       "    </tr>\n",
       "    <tr>\n",
       "      <th>1</th>\n",
       "      <td>MESlike</td>\n",
       "      <td>0.656607</td>\n",
       "      <td>Prim.</td>\n",
       "    </tr>\n",
       "    <tr>\n",
       "      <th>2</th>\n",
       "      <td>MESlike</td>\n",
       "      <td>0.736406</td>\n",
       "      <td>Prim.</td>\n",
       "    </tr>\n",
       "    <tr>\n",
       "      <th>3</th>\n",
       "      <td>MESlike</td>\n",
       "      <td>0.247800</td>\n",
       "      <td>Prim.</td>\n",
       "    </tr>\n",
       "    <tr>\n",
       "      <th>4</th>\n",
       "      <td>MESlike</td>\n",
       "      <td>0.765984</td>\n",
       "      <td>Prim.</td>\n",
       "    </tr>\n",
       "  </tbody>\n",
       "</table>\n",
       "</div>"
      ],
      "text/plain": [
       "  cellType  cellComposition Tumor type\n",
       "0  MESlike         0.453784      Prim.\n",
       "1  MESlike         0.656607      Prim.\n",
       "2  MESlike         0.736406      Prim.\n",
       "3  MESlike         0.247800      Prim.\n",
       "4  MESlike         0.765984      Prim."
      ]
     },
     "execution_count": 68,
     "metadata": {},
     "output_type": "execute_result"
    }
   ],
   "source": [
    "# Create df for violin plot\n",
    "scaden_violin = pd.DataFrame(np.array([np.repeat(ct, len(scaden.index)) for ct in ['MESlike','OPClike','AClike','NPClike']]).flatten(), columns=['cellType'])\n",
    "scaden_violin['cellComposition'] = np.array([scaden['MESlike'], scaden['OPClike'], scaden['AClike'], scaden['NPClike']]).flatten()\n",
    "scaden_violin['Tumor type'] = np.array(np.repeat(scaden['tumorType'],4)).flatten()\n",
    "scaden_violin.head()"
   ]
  },
  {
   "cell_type": "code",
   "execution_count": 3,
   "metadata": {},
   "outputs": [
    {
     "data": {
      "text/html": [
       "<div>\n",
       "<style scoped>\n",
       "    .dataframe tbody tr th:only-of-type {\n",
       "        vertical-align: middle;\n",
       "    }\n",
       "\n",
       "    .dataframe tbody tr th {\n",
       "        vertical-align: top;\n",
       "    }\n",
       "\n",
       "    .dataframe thead th {\n",
       "        text-align: right;\n",
       "    }\n",
       "</style>\n",
       "<table border=\"1\" class=\"dataframe\">\n",
       "  <thead>\n",
       "    <tr style=\"text-align: right;\">\n",
       "      <th></th>\n",
       "      <th>cellType</th>\n",
       "      <th>cellComposition</th>\n",
       "      <th>Tumor type</th>\n",
       "    </tr>\n",
       "  </thead>\n",
       "  <tbody>\n",
       "    <tr>\n",
       "      <th>0</th>\n",
       "      <td>MESlike</td>\n",
       "      <td>0.768873</td>\n",
       "      <td>Prim.</td>\n",
       "    </tr>\n",
       "    <tr>\n",
       "      <th>1</th>\n",
       "      <td>MESlike</td>\n",
       "      <td>0.843634</td>\n",
       "      <td>Prim.</td>\n",
       "    </tr>\n",
       "    <tr>\n",
       "      <th>2</th>\n",
       "      <td>MESlike</td>\n",
       "      <td>0.882449</td>\n",
       "      <td>Prim.</td>\n",
       "    </tr>\n",
       "    <tr>\n",
       "      <th>3</th>\n",
       "      <td>MESlike</td>\n",
       "      <td>0.343179</td>\n",
       "      <td>Prim.</td>\n",
       "    </tr>\n",
       "    <tr>\n",
       "      <th>4</th>\n",
       "      <td>MESlike</td>\n",
       "      <td>0.873567</td>\n",
       "      <td>Prim.</td>\n",
       "    </tr>\n",
       "  </tbody>\n",
       "</table>\n",
       "</div>"
      ],
      "text/plain": [
       "  cellType  cellComposition Tumor type\n",
       "0  MESlike         0.768873      Prim.\n",
       "1  MESlike         0.843634      Prim.\n",
       "2  MESlike         0.882449      Prim.\n",
       "3  MESlike         0.343179      Prim.\n",
       "4  MESlike         0.873567      Prim."
      ]
     },
     "execution_count": 3,
     "metadata": {},
     "output_type": "execute_result"
    }
   ],
   "source": [
    "#Create df for violin plot\n",
    "cibersort_violin = pd.DataFrame(np.array([np.repeat(ct, len(cibersort.index)) for ct in ['MESlike','OPClike','AClike','NPClike']]).flatten(), columns=['cellType'])\n",
    "cibersort_violin['cellComposition'] = np.array([cibersort['MESlike'], cibersort['OPClike'], cibersort['AClike'], cibersort['NPClike']]).flatten()\n",
    "cibersort_violin['Tumor type'] = np.array(np.repeat(cibersort['tumorType'],4)).flatten()\n",
    "cibersort_violin.head()"
   ]
  },
  {
   "cell_type": "code",
   "execution_count": 4,
   "metadata": {
    "scrolled": true
   },
   "outputs": [
    {
     "ename": "NameError",
     "evalue": "name 'scaden_violin' is not defined",
     "output_type": "error",
     "traceback": [
      "\u001b[0;31m---------------------------------------------------------------------------\u001b[0m",
      "\u001b[0;31mNameError\u001b[0m                                 Traceback (most recent call last)",
      "\u001b[0;32m<ipython-input-4-f367ede25201>\u001b[0m in \u001b[0;36m<module>\u001b[0;34m\u001b[0m\n\u001b[1;32m      1\u001b[0m \u001b[0;31m# Create Scaden Violinplot\u001b[0m\u001b[0;34m\u001b[0m\u001b[0;34m\u001b[0m\u001b[0;34m\u001b[0m\u001b[0m\n\u001b[1;32m      2\u001b[0m \u001b[0mfig\u001b[0m\u001b[0;34m,\u001b[0m \u001b[0maxes\u001b[0m \u001b[0;34m=\u001b[0m \u001b[0mplt\u001b[0m\u001b[0;34m.\u001b[0m\u001b[0msubplots\u001b[0m\u001b[0;34m(\u001b[0m\u001b[0;34m)\u001b[0m\u001b[0;34m\u001b[0m\u001b[0;34m\u001b[0m\u001b[0m\n\u001b[0;32m----> 3\u001b[0;31m \u001b[0msns\u001b[0m\u001b[0;34m.\u001b[0m\u001b[0mviolinplot\u001b[0m\u001b[0;34m(\u001b[0m\u001b[0mx\u001b[0m\u001b[0;34m=\u001b[0m\u001b[0;34m'cellType'\u001b[0m\u001b[0;34m,\u001b[0m\u001b[0my\u001b[0m\u001b[0;34m=\u001b[0m\u001b[0;34m'cellComposition'\u001b[0m\u001b[0;34m,\u001b[0m \u001b[0mhue\u001b[0m\u001b[0;34m=\u001b[0m\u001b[0;34m'Tumor type'\u001b[0m\u001b[0;34m,\u001b[0m \u001b[0mdata\u001b[0m\u001b[0;34m=\u001b[0m\u001b[0mscaden_violin\u001b[0m\u001b[0;34m,\u001b[0m \u001b[0max\u001b[0m \u001b[0;34m=\u001b[0m \u001b[0maxes\u001b[0m\u001b[0;34m,\u001b[0m \u001b[0msplit\u001b[0m\u001b[0;34m=\u001b[0m\u001b[0;32mTrue\u001b[0m\u001b[0;34m,\u001b[0m \u001b[0mpalette\u001b[0m\u001b[0;34m=\u001b[0m\u001b[0;34m\"Set2\"\u001b[0m\u001b[0;34m)\u001b[0m\u001b[0;34m\u001b[0m\u001b[0;34m\u001b[0m\u001b[0m\n\u001b[0m\u001b[1;32m      4\u001b[0m \u001b[0mplt\u001b[0m\u001b[0;34m.\u001b[0m\u001b[0mxlabel\u001b[0m\u001b[0;34m(\u001b[0m\u001b[0;34m''\u001b[0m\u001b[0;34m)\u001b[0m\u001b[0;34m\u001b[0m\u001b[0;34m\u001b[0m\u001b[0m\n\u001b[1;32m      5\u001b[0m \u001b[0mplt\u001b[0m\u001b[0;34m.\u001b[0m\u001b[0mylabel\u001b[0m\u001b[0;34m(\u001b[0m\u001b[0;34m'Cell composition'\u001b[0m\u001b[0;34m)\u001b[0m\u001b[0;34m\u001b[0m\u001b[0;34m\u001b[0m\u001b[0m\n",
      "\u001b[0;31mNameError\u001b[0m: name 'scaden_violin' is not defined"
     ]
    },
    {
     "data": {
      "image/png": "[encoded data removed]",
      "text/plain": [
       "<Figure size 432x288 with 1 Axes>"
      ]
     },
     "metadata": {
      "needs_background": "light"
     },
     "output_type": "display_data"
    }
   ],
   "source": [
    "# Create Scaden Violinplot\n",
    "fig, axes = plt.subplots()\n",
    "sns.violinplot(x='cellType',y='cellComposition', hue='Tumor type', data=scaden_violin, ax = axes, split=True, palette=\"Set2\")\n",
    "plt.xlabel('')\n",
    "plt.ylabel('Cell composition')\n",
    "plt.title('Cell composition distribution using Scaden');"
   ]
  },
  {
   "cell_type": "code",
   "execution_count": 11,
   "metadata": {},
   "outputs": [
    {
     "data": {
      "image/png": "[encoded data removed]",
      "text/plain": [
       "<Figure size 648x432 with 1 Axes>"
      ]
     },
     "metadata": {
      "needs_background": "light"
     },
     "output_type": "display_data"
    }
   ],
   "source": [
    "# Create Cibersort Violinplot\n",
    "fig, axes = plt.subplots()\n",
    "sns.violinplot(x='cellType',y='cellComposition', hue='Tumor type', data=cibersort_violin, ax = axes, split=True, palette=\"Set2\")\n",
    "plt.xlabel('')\n",
    "plt.ylabel('Cell composition')\n",
    "fig.set_size_inches(9, 6)\n",
    "#plt.title('Cell composition distribution using CIBERSORTx');\n",
    "plt.savefig('violin_cibersort_subtypes.jpeg')"
   ]
  },
  {
   "cell_type": "code",
   "execution_count": 7,
   "metadata": {},
   "outputs": [
    {
     "data": {
      "text/plain": [
       "<Figure size 432x288 with 0 Axes>"
      ]
     },
     "metadata": {},
     "output_type": "display_data"
    }
   ],
   "source": []
  }
 ],
 "metadata": {
  "kernelspec": {
   "display_name": "Python 3",
   "language": "python",
   "name": "python3"
  },
  "language_info": {
   "codemirror_mode": {
    "name": "ipython",
    "version": 3
   },
   "file_extension": ".py",
   "mimetype": "text/x-python",
   "name": "python",
   "nbconvert_exporter": "python",
   "pygments_lexer": "ipython3",
   "version": "3.8.5"
  }
 },
 "nbformat": 4,
 "nbformat_minor": 5
}
